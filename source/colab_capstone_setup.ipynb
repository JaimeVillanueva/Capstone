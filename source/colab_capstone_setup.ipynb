{
 "cells": [
  {
   "cell_type": "markdown",
   "metadata": {
    "colab_type": "text",
    "id": "8BMdwxMCa1gm"
   },
   "source": [
    "# Import Google Drive"
   ]
  },
  {
   "cell_type": "code",
   "execution_count": 2,
   "metadata": {
    "colab": {
     "base_uri": "https://localhost:8080/",
     "height": 124
    },
    "colab_type": "code",
    "executionInfo": {
     "elapsed": 22665,
     "status": "ok",
     "timestamp": 1574460238795,
     "user": {
      "displayName": "Jaime Villanueva",
      "photoUrl": "",
      "userId": "00376459050854225481"
     },
     "user_tz": 300
    },
    "id": "f93OBAVEu_6s",
    "outputId": "1c252de7-06e7-4b41-f6c7-169daf91bd74"
   },
   "outputs": [
    {
     "name": "stdout",
     "output_type": "stream",
     "text": [
      "Go to this URL in a browser: https://accounts.google.com/o/oauth2/auth?client_id=947318989803-6bn6qk8qdgf4n4g3pfee6491hc0brc4i.apps.googleusercontent.com&redirect_uri=urn%3aietf%3awg%3aoauth%3a2.0%3aoob&response_type=code&scope=email%20https%3a%2f%2fwww.googleapis.com%2fauth%2fdocs.test%20https%3a%2f%2fwww.googleapis.com%2fauth%2fdrive%20https%3a%2f%2fwww.googleapis.com%2fauth%2fdrive.photos.readonly%20https%3a%2f%2fwww.googleapis.com%2fauth%2fpeopleapi.readonly\n",
      "\n",
      "Enter your authorization code:\n",
      "··········\n",
      "Mounted at /content/drive\n"
     ]
    }
   ],
   "source": [
    "from google.colab import drive\n",
    "drive.mount('/content/drive')"
   ]
  },
  {
   "cell_type": "code",
   "execution_count": 3,
   "metadata": {
    "colab": {
     "base_uri": "https://localhost:8080/",
     "height": 34
    },
    "colab_type": "code",
    "executionInfo": {
     "elapsed": 497,
     "status": "ok",
     "timestamp": 1574460242112,
     "user": {
      "displayName": "Jaime Villanueva",
      "photoUrl": "",
      "userId": "00376459050854225481"
     },
     "user_tz": 300
    },
    "id": "eAG7FJz7vRJN",
    "outputId": "c54b5f9d-d252-475b-c9d3-8b559c46e964"
   },
   "outputs": [
    {
     "data": {
      "text/plain": [
       "'/content/drive/My Drive/Colab Notebooks/Git Capstone'"
      ]
     },
     "execution_count": 3,
     "metadata": {
      "tags": []
     },
     "output_type": "execute_result"
    }
   ],
   "source": [
    "import os\n",
    "os.chdir('/content/drive/My Drive/Colab Notebooks/Git Capstone/')\n",
    "os.getcwd()"
   ]
  },
  {
   "cell_type": "markdown",
   "metadata": {
    "colab_type": "text",
    "id": "666Cbtfha-L8"
   },
   "source": [
    "# Clone repository"
   ]
  },
  {
   "cell_type": "code",
   "execution_count": 0,
   "metadata": {
    "colab": {
     "base_uri": "https://localhost:8080/",
     "height": 139
    },
    "colab_type": "code",
    "executionInfo": {
     "elapsed": 5159,
     "status": "ok",
     "timestamp": 1574453609545,
     "user": {
      "displayName": "Jaime Villanueva",
      "photoUrl": "",
      "userId": "00376459050854225481"
     },
     "user_tz": 300
    },
    "id": "qzNGkkcjvtOp",
    "outputId": "a39fe4e9-c60a-42ca-fc8e-1ed394172eed"
   },
   "outputs": [
    {
     "name": "stdout",
     "output_type": "stream",
     "text": [
      "Cloning into 'Capstone'...\n",
      "remote: Enumerating objects: 217, done.\u001b[K\n",
      "remote: Counting objects: 100% (217/217), done.\u001b[K\n",
      "remote: Compressing objects: 100% (170/170), done.\u001b[K\n",
      "remote: Total 367 (delta 132), reused 71 (delta 35), pack-reused 150\u001b[K\n",
      "Receiving objects: 100% (367/367), 36.76 MiB | 18.24 MiB/s, done.\n",
      "Resolving deltas: 100% (200/200), done.\n"
     ]
    }
   ],
   "source": [
    "!git clone https://github.com/JaimeVillanueva/Capstone.git"
   ]
  },
  {
   "cell_type": "markdown",
   "metadata": {
    "colab_type": "text",
    "id": "uJQKmJiWbGAo"
   },
   "source": [
    "# Generate image file path text file"
   ]
  },
  {
   "cell_type": "code",
   "execution_count": 4,
   "metadata": {
    "colab": {
     "base_uri": "https://localhost:8080/",
     "height": 34
    },
    "colab_type": "code",
    "executionInfo": {
     "elapsed": 2071,
     "status": "ok",
     "timestamp": 1574460257322,
     "user": {
      "displayName": "Jaime Villanueva",
      "photoUrl": "",
      "userId": "00376459050854225481"
     },
     "user_tz": 300
    },
    "id": "NgqCkmtQJA00",
    "outputId": "005f1239-e63c-4843-e66b-884f5ce76437"
   },
   "outputs": [
    {
     "name": "stdout",
     "output_type": "stream",
     "text": [
      "Capstone\n"
     ]
    }
   ],
   "source": [
    "!ls"
   ]
  },
  {
   "cell_type": "code",
   "execution_count": 5,
   "metadata": {
    "colab": {
     "base_uri": "https://localhost:8080/",
     "height": 34
    },
    "colab_type": "code",
    "executionInfo": {
     "elapsed": 518,
     "status": "ok",
     "timestamp": 1574460334342,
     "user": {
      "displayName": "Jaime Villanueva",
      "photoUrl": "",
      "userId": "00376459050854225481"
     },
     "user_tz": 300
    },
    "id": "1QdsjVrhJOsx",
    "outputId": "2e9a7754-b60f-4913-f815-187893ee224c"
   },
   "outputs": [
    {
     "name": "stdout",
     "output_type": "stream",
     "text": [
      "/content/drive/My Drive/Colab Notebooks/Git Capstone/Capstone\n"
     ]
    }
   ],
   "source": [
    "cd Capstone"
   ]
  },
  {
   "cell_type": "code",
   "execution_count": 6,
   "metadata": {
    "colab": {
     "base_uri": "https://localhost:8080/",
     "height": 34
    },
    "colab_type": "code",
    "executionInfo": {
     "elapsed": 1731,
     "status": "ok",
     "timestamp": 1574460341781,
     "user": {
      "displayName": "Jaime Villanueva",
      "photoUrl": "",
      "userId": "00376459050854225481"
     },
     "user_tz": 300
    },
    "id": "cr-EGq_jJh4s",
    "outputId": "13c7f693-b601-4501-c954-9420a9c2d28f"
   },
   "outputs": [
    {
     "name": "stdout",
     "output_type": "stream",
     "text": [
      "data  docs  images  LICENSE  paper  README.md  source\n"
     ]
    }
   ],
   "source": [
    "!ls"
   ]
  },
  {
   "cell_type": "code",
   "execution_count": 7,
   "metadata": {
    "colab": {
     "base_uri": "https://localhost:8080/",
     "height": 34
    },
    "colab_type": "code",
    "executionInfo": {
     "elapsed": 506,
     "status": "ok",
     "timestamp": 1574460352605,
     "user": {
      "displayName": "Jaime Villanueva",
      "photoUrl": "",
      "userId": "00376459050854225481"
     },
     "user_tz": 300
    },
    "id": "nzn64U2xJjah",
    "outputId": "84ba0a52-70bb-420d-983a-8996d7c66b52"
   },
   "outputs": [
    {
     "name": "stdout",
     "output_type": "stream",
     "text": [
      "/content/drive/My Drive/Colab Notebooks/Git Capstone/Capstone/images\n"
     ]
    }
   ],
   "source": [
    "cd images"
   ]
  },
  {
   "cell_type": "code",
   "execution_count": 8,
   "metadata": {
    "colab": {
     "base_uri": "https://localhost:8080/",
     "height": 156
    },
    "colab_type": "code",
    "executionInfo": {
     "elapsed": 1915,
     "status": "ok",
     "timestamp": 1574460361256,
     "user": {
      "displayName": "Jaime Villanueva",
      "photoUrl": "",
      "userId": "00376459050854225481"
     },
     "user_tz": 300
    },
    "id": "_ut8ZXhHJmV9",
    "outputId": "810ce0c1-0d8a-45ff-8d7d-b23365d77895"
   },
   "outputs": [
    {
     "name": "stdout",
     "output_type": "stream",
     "text": [
      "animals_test_mixed_hidden-5.jpg  mod_people_in_car4.jpg\n",
      "dog_grid.png\t\t\t mod_people_on_car1.jpg\n",
      "dog_location_test.jpg\t\t mod_people_on_motorcycle2.jpg\n",
      "ILSVRC2013_DET_train_extra1\t mod_people_on_motorcycle.jpg\n",
      "mix_dog-cat-bird.jpg\t\t notebook_images\n",
      "mod_people_in_car1.jpg\t\t people_in_car1_noborder.jpg\n",
      "mod_people_in_car2.jpg\t\t people_in_car_noborder_org.jpg\n",
      "mod_people_in_car3.jpg\n"
     ]
    }
   ],
   "source": [
    "!ls"
   ]
  },
  {
   "cell_type": "code",
   "execution_count": 9,
   "metadata": {
    "colab": {
     "base_uri": "https://localhost:8080/",
     "height": 34
    },
    "colab_type": "code",
    "executionInfo": {
     "elapsed": 485,
     "status": "ok",
     "timestamp": 1574460404918,
     "user": {
      "displayName": "Jaime Villanueva",
      "photoUrl": "",
      "userId": "00376459050854225481"
     },
     "user_tz": 300
    },
    "id": "ZpGk5PDBJoDE",
    "outputId": "94eb45bd-c852-4de5-910b-01681f5616d5"
   },
   "outputs": [
    {
     "name": "stdout",
     "output_type": "stream",
     "text": [
      "/content/drive/My Drive/Colab Notebooks/Git Capstone/Capstone/images/ILSVRC2013_DET_train_extra1\n"
     ]
    }
   ],
   "source": [
    "# Verify filepath to images\n",
    "cd ILSVRC2013_DET_train_extra1"
   ]
  },
  {
   "cell_type": "code",
   "execution_count": 17,
   "metadata": {
    "colab": {
     "base_uri": "https://localhost:8080/",
     "height": 34
    },
    "colab_type": "code",
    "executionInfo": {
     "elapsed": 500,
     "status": "ok",
     "timestamp": 1574463659714,
     "user": {
      "displayName": "Jaime Villanueva",
      "photoUrl": "",
      "userId": "00376459050854225481"
     },
     "user_tz": 300
    },
    "id": "yG31D3OzJ0Y8",
    "outputId": "414734a8-0636-441f-d1b2-3369ec3d2e5c"
   },
   "outputs": [
    {
     "data": {
      "text/plain": [
       "'/content/drive/My Drive/Colab Notebooks/Git Capstone/Capstone/source'"
      ]
     },
     "execution_count": 17,
     "metadata": {
      "tags": []
     },
     "output_type": "execute_result"
    }
   ],
   "source": [
    "# Switch working directory back to same diretory with feature_extraction.ipynb\n",
    "os.chdir('/content/drive/My Drive/Colab Notebooks/Git Capstone/Capstone/source/')\n",
    "os.getcwd()"
   ]
  },
  {
   "cell_type": "code",
   "execution_count": 0,
   "metadata": {
    "colab": {},
    "colab_type": "code",
    "id": "Csb8Ecl-V-ob"
   },
   "outputs": [],
   "source": [
    "# Write the names of all the image files from the image folder into a text file in the current directory\n",
    "!ls /content/drive/My\\ Drive/Colab\\ Notebooks/Git\\ Capstone/Capstone/images/ILSVRC2013_DET_train_extra1/ > image_filelist.txt"
   ]
  },
  {
   "cell_type": "code",
   "execution_count": 28,
   "metadata": {
    "colab": {
     "base_uri": "https://localhost:8080/",
     "height": 86
    },
    "colab_type": "code",
    "executionInfo": {
     "elapsed": 2012,
     "status": "ok",
     "timestamp": 1574464431998,
     "user": {
      "displayName": "Jaime Villanueva",
      "photoUrl": "",
      "userId": "00376459050854225481"
     },
     "user_tz": 300
    },
    "id": "-g1Gne74XJDG",
    "outputId": "65456e70-6a1d-4672-d2ac-7d25a4a9ade1"
   },
   "outputs": [
    {
     "name": "stdout",
     "output_type": "stream",
     "text": [
      "feature_extraction.ipynb    mrcnn_classes.py\n",
      "groundtruth_testing.ipynb   objectmapping.py\n",
      "image_filelist.txt\t    object_relation_sample.ipynb\n",
      "location_grid_sample.ipynb  perc_dict.pkl\n"
     ]
    }
   ],
   "source": [
    "!ls"
   ]
  },
  {
   "cell_type": "code",
   "execution_count": 0,
   "metadata": {
    "colab": {},
    "colab_type": "code",
    "id": "YguAwnnMYjYW"
   },
   "outputs": [],
   "source": [
    "# Open the text file containing the image file names and strip away any extra quotation marks. Only allow image files: png, jpg, JPEG\n",
    "# Read all filenames into a list\n",
    "with open('image_filelist.txt', 'r') as f:\n",
    "    image_filelist = f.read().splitlines()\n",
    "image_filelist = [i.strip('\\\"') for i in image_filelist if '.jpg' in i or '.png in' in i or '.JPEG' in i]"
   ]
  },
  {
   "cell_type": "code",
   "execution_count": 0,
   "metadata": {
    "colab": {},
    "colab_type": "code",
    "id": "xUjdT2d6XPjx"
   },
   "outputs": [],
   "source": [
    "# Add the file path to the image folder to each filename in the list\n",
    "file_location = '/content/drive/My Drive/Colab Notebooks/Git Capstone/Capstone/images/ILSVRC2013_DET_train_extra1/'\n",
    "image_filelist = [file_location + i for i in image_filelist]"
   ]
  },
  {
   "cell_type": "code",
   "execution_count": 0,
   "metadata": {
    "colab": {},
    "colab_type": "code",
    "id": "MSjvv6U1Z0sS"
   },
   "outputs": [],
   "source": [
    "# Write out the list to a text file in the current diretory\n",
    "with open('image_filelist.txt', 'w') as f:\n",
    "    for i in image_filelist:\n",
    "        f.write(f\"{i}\\n\")"
   ]
  },
  {
   "cell_type": "code",
   "execution_count": 0,
   "metadata": {
    "colab": {},
    "colab_type": "code",
    "id": "bKDVziPiZ2yn"
   },
   "outputs": [],
   "source": [
    "# Go to google drive and manually inspect the file to be sure it is in the format neeeded."
   ]
  }
 ],
 "metadata": {
  "accelerator": "GPU",
  "colab": {
   "collapsed_sections": [],
   "name": "capstone_setup.ipynb",
   "provenance": []
  },
  "kernelspec": {
   "display_name": "Python 3",
   "language": "python",
   "name": "python3"
  },
  "language_info": {
   "codemirror_mode": {
    "name": "ipython",
    "version": 3
   },
   "file_extension": ".py",
   "mimetype": "text/x-python",
   "name": "python",
   "nbconvert_exporter": "python",
   "pygments_lexer": "ipython3",
   "version": "3.7.4"
  }
 },
 "nbformat": 4,
 "nbformat_minor": 1
}
