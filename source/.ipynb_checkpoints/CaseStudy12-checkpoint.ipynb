{
 "cells": [
  {
   "cell_type": "code",
   "execution_count": 1,
   "metadata": {},
   "outputs": [
    {
     "name": "stderr",
     "output_type": "stream",
     "text": [
      "Using TensorFlow backend.\n"
     ]
    }
   ],
   "source": [
    "import numpy as np\n",
    "from keras.models import Sequential\n",
    "from keras.layers import Dense\n",
    "from keras.callbacks import TensorBoard\n",
    "from sklearn.preprocessing import MinMaxScaler\n",
    "from sklearn.model_selection import train_test_split\n",
    "from sklearn.metrics import roc_auc_score\n",
    "import matplotlib.pyplot as plt\n",
    "tb = TensorBoard(log_dir='./Graph_005', histogram_freq=1, write_graph=True, write_images=True)"
   ]
  },
  {
   "cell_type": "code",
   "execution_count": 2,
   "metadata": {},
   "outputs": [],
   "source": [
    "higgs = np.loadtxt('../data/higgs_001.csv', delimiter=',')"
   ]
  },
  {
   "cell_type": "code",
   "execution_count": 3,
   "metadata": {},
   "outputs": [],
   "source": [
    "# split out the response\n",
    "X = higgs[:,1:29]\n",
    "y = higgs[:,0]\n",
    "\n",
    "# free up memory space\n",
    "del higgs\n",
    "\n",
    "# scale the data\n",
    "mm_scale = MinMaxScaler()\n",
    "Xscl = mm_scale.fit_transform(X)\n",
    "\n",
    "# free up memory space\n",
    "del X\n",
    "\n",
    "# train, test, split\n",
    "X_train, X_test, y_train, y_test = train_test_split(Xscl, y, train_size = .8, test_size=.2, random_state=1, stratify=y)\n",
    "\n",
    "# free up memory space\n",
    "del Xscl"
   ]
  },
  {
   "cell_type": "code",
   "execution_count": 4,
   "metadata": {},
   "outputs": [],
   "source": [
    "# parameters\n",
    "myUnits = 5\n",
    "myEpochs = 50\n",
    "myBatchSize = 10"
   ]
  },
  {
   "cell_type": "code",
   "execution_count": 5,
   "metadata": {},
   "outputs": [
    {
     "name": "stdout",
     "output_type": "stream",
     "text": [
      "WARNING:tensorflow:From /home/jartav/anaconda3/envs/Keras224/lib/python3.6/site-packages/tensorflow/python/framework/op_def_library.py:263: colocate_with (from tensorflow.python.framework.ops) is deprecated and will be removed in a future version.\n",
      "Instructions for updating:\n",
      "Colocations handled automatically by placer.\n"
     ]
    }
   ],
   "source": [
    "# model definition\n",
    "model = Sequential()\n",
    "model.add(Dense(myUnits, input_dim=28, activation='relu'))\n",
    "model.add(Dense(myUnits, activation='relu'))\n",
    "model.add(Dense(myUnits, activation='relu'))\n",
    "model.add(Dense(myUnits, activation='relu'))\n",
    "model.add(Dense(myUnits, activation='relu'))\n",
    "model.add(Dense(1, activation='sigmoid'))"
   ]
  },
  {
   "cell_type": "code",
   "execution_count": 6,
   "metadata": {},
   "outputs": [],
   "source": [
    "# compile the keras model\n",
    "model.compile(loss='binary_crossentropy', optimizer='adam', metrics=['accuracy'])"
   ]
  },
  {
   "cell_type": "code",
   "execution_count": 7,
   "metadata": {
    "scrolled": true
   },
   "outputs": [
    {
     "name": "stdout",
     "output_type": "stream",
     "text": [
      "WARNING:tensorflow:From /home/jartav/anaconda3/envs/Keras224/lib/python3.6/site-packages/tensorflow/python/ops/math_ops.py:3066: to_int32 (from tensorflow.python.ops.math_ops) is deprecated and will be removed in a future version.\n",
      "Instructions for updating:\n",
      "Use tf.cast instead.\n",
      "Train on 8800 samples, validate on 2200 samples\n",
      "Epoch 1/50\n",
      "8800/8800 [==============================] - 8s 917us/step - loss: 0.6911 - acc: 0.5352 - val_loss: 0.6899 - val_acc: 0.5373\n",
      "Epoch 2/50\n",
      "8800/8800 [==============================] - 7s 824us/step - loss: 0.6882 - acc: 0.5394 - val_loss: 0.6869 - val_acc: 0.5432\n",
      "Epoch 3/50\n",
      "8800/8800 [==============================] - 7s 842us/step - loss: 0.6842 - acc: 0.5491 - val_loss: 0.6895 - val_acc: 0.5514\n",
      "Epoch 4/50\n",
      "8800/8800 [==============================] - 7s 813us/step - loss: 0.6800 - acc: 0.5613 - val_loss: 0.6768 - val_acc: 0.5782\n",
      "Epoch 5/50\n",
      "8800/8800 [==============================] - 7s 798us/step - loss: 0.6737 - acc: 0.5833 - val_loss: 0.6673 - val_acc: 0.5927\n",
      "Epoch 6/50\n",
      "8800/8800 [==============================] - 7s 829us/step - loss: 0.6661 - acc: 0.5902 - val_loss: 0.6658 - val_acc: 0.5991\n",
      "Epoch 7/50\n",
      "8800/8800 [==============================] - 7s 808us/step - loss: 0.6603 - acc: 0.6010 - val_loss: 0.6636 - val_acc: 0.6032\n",
      "Epoch 8/50\n",
      "8800/8800 [==============================] - 7s 829us/step - loss: 0.6568 - acc: 0.6072 - val_loss: 0.6560 - val_acc: 0.5955\n",
      "Epoch 9/50\n",
      "8800/8800 [==============================] - 7s 824us/step - loss: 0.6544 - acc: 0.6066 - val_loss: 0.6550 - val_acc: 0.5955\n",
      "Epoch 10/50\n",
      "8800/8800 [==============================] - 7s 837us/step - loss: 0.6515 - acc: 0.6132 - val_loss: 0.6500 - val_acc: 0.6200\n",
      "Epoch 11/50\n",
      "8800/8800 [==============================] - 7s 849us/step - loss: 0.6509 - acc: 0.6123 - val_loss: 0.6583 - val_acc: 0.5891\n",
      "Epoch 12/50\n",
      "8800/8800 [==============================] - 7s 815us/step - loss: 0.6479 - acc: 0.6180 - val_loss: 0.6628 - val_acc: 0.5845\n",
      "Epoch 13/50\n",
      "8800/8800 [==============================] - 7s 809us/step - loss: 0.6477 - acc: 0.6167 - val_loss: 0.6472 - val_acc: 0.6082\n",
      "Epoch 14/50\n",
      "8800/8800 [==============================] - 7s 818us/step - loss: 0.6468 - acc: 0.6203 - val_loss: 0.6443 - val_acc: 0.6305\n",
      "Epoch 15/50\n",
      "8800/8800 [==============================] - 7s 817us/step - loss: 0.6458 - acc: 0.6200 - val_loss: 0.6416 - val_acc: 0.6318\n",
      "Epoch 16/50\n",
      "8800/8800 [==============================] - 7s 814us/step - loss: 0.6452 - acc: 0.6235 - val_loss: 0.6411 - val_acc: 0.6332\n",
      "Epoch 17/50\n",
      "8800/8800 [==============================] - 7s 808us/step - loss: 0.6443 - acc: 0.6282 - val_loss: 0.6406 - val_acc: 0.6305\n",
      "Epoch 18/50\n",
      "8800/8800 [==============================] - 7s 818us/step - loss: 0.6437 - acc: 0.6252 - val_loss: 0.6472 - val_acc: 0.6136\n",
      "Epoch 19/50\n",
      "8800/8800 [==============================] - 7s 801us/step - loss: 0.6430 - acc: 0.6208 - val_loss: 0.6378 - val_acc: 0.6359\n",
      "Epoch 20/50\n",
      "8800/8800 [==============================] - 7s 831us/step - loss: 0.6426 - acc: 0.6283 - val_loss: 0.6373 - val_acc: 0.6382\n",
      "Epoch 21/50\n",
      "8800/8800 [==============================] - 7s 821us/step - loss: 0.6418 - acc: 0.6272 - val_loss: 0.6385 - val_acc: 0.6268\n",
      "Epoch 22/50\n",
      "8800/8800 [==============================] - 7s 811us/step - loss: 0.6421 - acc: 0.6255 - val_loss: 0.6385 - val_acc: 0.6309\n",
      "Epoch 23/50\n",
      "8800/8800 [==============================] - 7s 820us/step - loss: 0.6403 - acc: 0.6298 - val_loss: 0.6409 - val_acc: 0.6318\n",
      "Epoch 24/50\n",
      "8800/8800 [==============================] - 7s 797us/step - loss: 0.6398 - acc: 0.6327 - val_loss: 0.6368 - val_acc: 0.6391\n",
      "Epoch 25/50\n",
      "8800/8800 [==============================] - 7s 826us/step - loss: 0.6403 - acc: 0.6294 - val_loss: 0.6362 - val_acc: 0.6318\n",
      "Epoch 26/50\n",
      "8800/8800 [==============================] - 7s 841us/step - loss: 0.6393 - acc: 0.6331 - val_loss: 0.6358 - val_acc: 0.6395\n",
      "Epoch 27/50\n",
      "8800/8800 [==============================] - 7s 833us/step - loss: 0.6386 - acc: 0.6308 - val_loss: 0.6451 - val_acc: 0.6255\n",
      "Epoch 28/50\n",
      "8800/8800 [==============================] - 7s 797us/step - loss: 0.6385 - acc: 0.6315 - val_loss: 0.6350 - val_acc: 0.6341\n",
      "Epoch 29/50\n",
      "8800/8800 [==============================] - 7s 831us/step - loss: 0.6378 - acc: 0.6322 - val_loss: 0.6498 - val_acc: 0.6159\n",
      "Epoch 30/50\n",
      "8800/8800 [==============================] - 7s 832us/step - loss: 0.6371 - acc: 0.6355 - val_loss: 0.6352 - val_acc: 0.6395\n",
      "Epoch 31/50\n",
      "8800/8800 [==============================] - 7s 847us/step - loss: 0.6371 - acc: 0.6330 - val_loss: 0.6333 - val_acc: 0.6427\n",
      "Epoch 32/50\n",
      "8800/8800 [==============================] - 7s 851us/step - loss: 0.6367 - acc: 0.6348 - val_loss: 0.6390 - val_acc: 0.6332\n",
      "Epoch 33/50\n",
      "8800/8800 [==============================] - 7s 842us/step - loss: 0.6362 - acc: 0.6386 - val_loss: 0.6401 - val_acc: 0.6309\n",
      "Epoch 34/50\n",
      "8800/8800 [==============================] - 7s 843us/step - loss: 0.6363 - acc: 0.6342 - val_loss: 0.6346 - val_acc: 0.6327\n",
      "Epoch 35/50\n",
      "8800/8800 [==============================] - 7s 844us/step - loss: 0.6354 - acc: 0.6361 - val_loss: 0.6398 - val_acc: 0.6291\n",
      "Epoch 36/50\n",
      "8800/8800 [==============================] - 7s 847us/step - loss: 0.6345 - acc: 0.6375 - val_loss: 0.6624 - val_acc: 0.6009\n",
      "Epoch 37/50\n",
      "8800/8800 [==============================] - 7s 848us/step - loss: 0.6364 - acc: 0.6386 - val_loss: 0.6367 - val_acc: 0.6350\n",
      "Epoch 38/50\n",
      "8800/8800 [==============================] - 8s 854us/step - loss: 0.6349 - acc: 0.6407 - val_loss: 0.6358 - val_acc: 0.6432\n",
      "Epoch 39/50\n",
      "8800/8800 [==============================] - 7s 835us/step - loss: 0.6349 - acc: 0.6384 - val_loss: 0.6333 - val_acc: 0.6400\n",
      "Epoch 40/50\n",
      "8800/8800 [==============================] - 8s 852us/step - loss: 0.6350 - acc: 0.6356 - val_loss: 0.6349 - val_acc: 0.6364\n",
      "Epoch 41/50\n",
      "8800/8800 [==============================] - 7s 843us/step - loss: 0.6337 - acc: 0.6400 - val_loss: 0.6341 - val_acc: 0.6355\n",
      "Epoch 42/50\n",
      "8800/8800 [==============================] - 7s 851us/step - loss: 0.6338 - acc: 0.6393 - val_loss: 0.6382 - val_acc: 0.6286\n",
      "Epoch 43/50\n",
      "8800/8800 [==============================] - 7s 833us/step - loss: 0.6330 - acc: 0.6368 - val_loss: 0.6324 - val_acc: 0.6423\n",
      "Epoch 44/50\n",
      "8800/8800 [==============================] - 7s 796us/step - loss: 0.6334 - acc: 0.6382 - val_loss: 0.6331 - val_acc: 0.6355\n",
      "Epoch 45/50\n",
      "8800/8800 [==============================] - 7s 832us/step - loss: 0.6337 - acc: 0.6395 - val_loss: 0.6316 - val_acc: 0.6373\n",
      "Epoch 46/50\n",
      "8800/8800 [==============================] - 7s 823us/step - loss: 0.6328 - acc: 0.6372 - val_loss: 0.6329 - val_acc: 0.6323\n",
      "Epoch 47/50\n",
      "8800/8800 [==============================] - 7s 834us/step - loss: 0.6311 - acc: 0.6425 - val_loss: 0.6341 - val_acc: 0.6300\n",
      "Epoch 48/50\n",
      "8800/8800 [==============================] - 7s 849us/step - loss: 0.6316 - acc: 0.6386 - val_loss: 0.6315 - val_acc: 0.6445\n",
      "Epoch 49/50\n",
      "8800/8800 [==============================] - 7s 837us/step - loss: 0.6320 - acc: 0.6416 - val_loss: 0.6340 - val_acc: 0.6327\n",
      "Epoch 50/50\n",
      "8800/8800 [==============================] - 7s 843us/step - loss: 0.6307 - acc: 0.6410 - val_loss: 0.6325 - val_acc: 0.6391\n",
      "CPU times: user 9min 8s, sys: 44 s, total: 9min 52s\n",
      "Wall time: 6min 16s\n"
     ]
    }
   ],
   "source": [
    "%%time\n",
    "\n",
    "# fit the model\n",
    "myLog = model.fit(X_train, y_train, validation_data=(X_test, y_test), epochs=myEpochs, batch_size=myBatchSize,\n",
    "                  callbacks=[tb])"
   ]
  },
  {
   "cell_type": "code",
   "execution_count": 8,
   "metadata": {},
   "outputs": [
    {
     "data": {
      "text/plain": [
       "0.6884847549644261"
      ]
     },
     "execution_count": 8,
     "metadata": {},
     "output_type": "execute_result"
    }
   ],
   "source": [
    "# get auc score\n",
    "pred = model.predict(X_test)\n",
    "roc_auc_score(y_test, pred)"
   ]
  },
  {
   "cell_type": "code",
   "execution_count": 9,
   "metadata": {},
   "outputs": [
    {
     "name": "stdout",
     "output_type": "stream",
     "text": [
      "dict_keys(['val_loss', 'val_acc', 'loss', 'acc'])\n"
     ]
    }
   ],
   "source": [
    "# Access results\n",
    "print(myLog.history.keys())"
   ]
  },
  {
   "cell_type": "code",
   "execution_count": 10,
   "metadata": {},
   "outputs": [
    {
     "data": {
      "image/png": "[encoded data removed]",
      "text/plain": [
       "<Figure size 432x288 with 1 Axes>"
      ]
     },
     "metadata": {
      "needs_background": "light"
     },
     "output_type": "display_data"
    }
   ],
   "source": [
    "# Plot epoch vs accuracy\n",
    "plt.plot(myLog.history['acc'])\n",
    "plt.plot(myLog.history['val_acc'])\n",
    "plt.title('Epoch VS Accuracy')\n",
    "plt.ylabel('accuracy')\n",
    "plt.xlabel('epoch')\n",
    "plt.legend(['train', 'test'], loc='upper left')\n",
    "plt.show()"
   ]
  },
  {
   "cell_type": "code",
   "execution_count": 11,
   "metadata": {},
   "outputs": [
    {
     "data": {
      "image/png": "[encoded data removed]",
      "text/plain": [
       "<Figure size 432x288 with 1 Axes>"
      ]
     },
     "metadata": {
      "needs_background": "light"
     },
     "output_type": "display_data"
    }
   ],
   "source": [
    "# Plot epoch vs loss\n",
    "plt.plot(myLog.history['loss'])\n",
    "plt.plot(myLog.history['val_loss'])\n",
    "plt.title('Epoch vs Loss')\n",
    "plt.ylabel('loss')\n",
    "plt.xlabel('epoch')\n",
    "plt.legend(['train', 'test'], loc='upper left')\n",
    "plt.show()"
   ]
  },
  {
   "cell_type": "code",
   "execution_count": 12,
   "metadata": {},
   "outputs": [
    {
     "name": "stdout",
     "output_type": "stream",
     "text": [
      "[name: \"/device:CPU:0\"\n",
      "device_type: \"CPU\"\n",
      "memory_limit: 268435456\n",
      "locality {\n",
      "}\n",
      "incarnation: 13000390848906081984\n",
      ", name: \"/device:XLA_CPU:0\"\n",
      "device_type: \"XLA_CPU\"\n",
      "memory_limit: 17179869184\n",
      "locality {\n",
      "}\n",
      "incarnation: 10939400015804038125\n",
      "physical_device_desc: \"device: XLA_CPU device\"\n",
      ", name: \"/device:GPU:0\"\n",
      "device_type: \"GPU\"\n",
      "memory_limit: 5829230592\n",
      "locality {\n",
      "  bus_id: 1\n",
      "  links {\n",
      "  }\n",
      "}\n",
      "incarnation: 7456380654180747063\n",
      "physical_device_desc: \"device: 0, name: GeForce GTX 1060 6GB, pci bus id: 0000:04:00.0, compute capability: 6.1\"\n",
      ", name: \"/device:XLA_GPU:0\"\n",
      "device_type: \"XLA_GPU\"\n",
      "memory_limit: 17179869184\n",
      "locality {\n",
      "}\n",
      "incarnation: 10548826874450426107\n",
      "physical_device_desc: \"device: XLA_GPU device\"\n",
      "]\n"
     ]
    }
   ],
   "source": [
    "from tensorflow.python.client import device_lib\n",
    "print(device_lib.list_local_devices())"
   ]
  },
  {
   "cell_type": "code",
   "execution_count": 13,
   "metadata": {},
   "outputs": [],
   "source": [
    "from keras import backend\n",
    "assert len(backend.tensorflow_backend._get_available_gpus()) > 0"
   ]
  },
  {
   "cell_type": "code",
   "execution_count": 14,
   "metadata": {},
   "outputs": [],
   "source": [
    "# from keras import backend as K\n",
    "# K.tensorflow_backend._get_available_gpus()"
   ]
  },
  {
   "cell_type": "code",
   "execution_count": 15,
   "metadata": {},
   "outputs": [
    {
     "name": "stdout",
     "output_type": "stream",
     "text": [
      "_________________________________________________________________\n",
      "Layer (type)                 Output Shape              Param #   \n",
      "=================================================================\n",
      "dense_1 (Dense)              (None, 5)                 145       \n",
      "_________________________________________________________________\n",
      "dense_2 (Dense)              (None, 5)                 30        \n",
      "_________________________________________________________________\n",
      "dense_3 (Dense)              (None, 5)                 30        \n",
      "_________________________________________________________________\n",
      "dense_4 (Dense)              (None, 5)                 30        \n",
      "_________________________________________________________________\n",
      "dense_5 (Dense)              (None, 5)                 30        \n",
      "_________________________________________________________________\n",
      "dense_6 (Dense)              (None, 1)                 6         \n",
      "=================================================================\n",
      "Total params: 271\n",
      "Trainable params: 271\n",
      "Non-trainable params: 0\n",
      "_________________________________________________________________\n",
      "None\n"
     ]
    }
   ],
   "source": [
    "print(model.summary())"
   ]
  },
  {
   "cell_type": "code",
   "execution_count": 29,
   "metadata": {},
   "outputs": [],
   "source": [
    "import keras\n",
    "import pydotplus\n",
    "from keras.utils.vis_utils import model_to_dot\n",
    "keras.utils.vis_utils.pydot = pydot"
   ]
  },
  {
   "cell_type": "code",
   "execution_count": 30,
   "metadata": {},
   "outputs": [],
   "source": [
    "plot_model(model, to_file='model.png')"
   ]
  },
  {
   "cell_type": "code",
   "execution_count": 32,
   "metadata": {},
   "outputs": [],
   "source": [
    "plot_model(model, to_file='model_plot.png', show_shapes=True, show_layer_names=True)"
   ]
  }
 ],
 "metadata": {
  "kernelspec": {
   "display_name": "Python 3",
   "language": "python",
   "name": "python3"
  },
  "language_info": {
   "codemirror_mode": {
    "name": "ipython",
    "version": 3
   },
   "file_extension": ".py",
   "mimetype": "text/x-python",
   "name": "python",
   "nbconvert_exporter": "python",
   "pygments_lexer": "ipython3",
   "version": "3.6.7"
  }
 },
 "nbformat": 4,
 "nbformat_minor": 2
}
