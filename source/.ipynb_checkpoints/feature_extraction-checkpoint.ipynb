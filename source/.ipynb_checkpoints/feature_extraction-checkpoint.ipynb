{
 "cells": [
  {
   "cell_type": "markdown",
   "metadata": {},
   "source": [
    "# Feature Extraction"
   ]
  },
  {
   "cell_type": "code",
   "execution_count": 1,
   "metadata": {},
   "outputs": [
    {
     "name": "stderr",
     "output_type": "stream",
     "text": [
      "Using TensorFlow backend.\n"
     ]
    }
   ],
   "source": [
    "import warnings\n",
    "warnings.simplefilter('ignore', FutureWarning)\n",
    "import numpy as np\n",
    "import pandas as pd\n",
    "from keras.preprocessing.image import load_img\n",
    "from keras.preprocessing.image import img_to_array\n",
    "from mrcnn.config import Config\n",
    "from mrcnn.model import MaskRCNN\n",
    "from mrcnn.visualize import display_instances\n",
    "from objectmapping import ObjectMapping\n",
    "from mrcnn_classes import class_names"
   ]
  },
  {
   "cell_type": "code",
   "execution_count": 2,
   "metadata": {},
   "outputs": [
    {
     "name": "stdout",
     "output_type": "stream",
     "text": [
      "WARNING:tensorflow:From /home/jartav/Documents/SMU/6130/Git6130/Capstone/source/mrcnn/model.py:399: add_dispatch_support.<locals>.wrapper (from tensorflow.python.ops.array_ops) is deprecated and will be removed in a future version.\n",
      "Instructions for updating:\n",
      "Use tf.where in 2.0, which has the same broadcast rule as np.where\n",
      "WARNING:tensorflow:From /home/jartav/Documents/SMU/6130/Git6130/Capstone/source/mrcnn/model.py:423: calling crop_and_resize_v1 (from tensorflow.python.ops.image_ops_impl) with box_ind is deprecated and will be removed in a future version.\n",
      "Instructions for updating:\n",
      "box_ind is deprecated, use box_indices instead\n",
      "CPU times: user 10.7 s, sys: 684 ms, total: 11.4 s\n",
      "Wall time: 11.3 s\n"
     ]
    }
   ],
   "source": [
    "%%time\n",
    "# define the test configuration\n",
    "class TestConfig(Config):\n",
    "    NAME = \"test\"\n",
    "    GPU_COUNT = 1\n",
    "    IMAGES_PER_GPU = 1\n",
    "    NUM_CLASSES = 1 + 80\n",
    "\n",
    "# define the model\n",
    "rcnn = MaskRCNN(mode='inference', model_dir='./', config=TestConfig())\n",
    "\n",
    "# load coco model weights\n",
    "rcnn.load_weights('../data/mask_rcnn_coco.h5', by_name=True)"
   ]
  },
  {
   "cell_type": "code",
   "execution_count": 3,
   "metadata": {},
   "outputs": [
    {
     "name": "stdout",
     "output_type": "stream",
     "text": [
      "CPU times: user 6.38 s, sys: 737 ms, total: 7.11 s\n",
      "Wall time: 6.25 s\n"
     ]
    }
   ],
   "source": [
    "%%time\n",
    "#load image\n",
    "imagefile = '../images/animals_test_mixed_hidden-5.jpg'\n",
    "img = load_img(imagefile)\n",
    "img = img_to_array(img)\n",
    "# make prediction\n",
    "results = rcnn.detect([img], verbose=False)\n",
    "# get dictionary for first prediction\n",
    "r = results[0]\n",
    "\n",
    "# instantiate object\n",
    "x = ObjectMapping(imagefile, r, class_names)"
   ]
  },
  {
   "cell_type": "code",
   "execution_count": 22,
   "metadata": {},
   "outputs": [
    {
     "data": {
      "text/plain": [
       "0.21132631655092593"
      ]
     },
     "execution_count": 22,
     "metadata": {},
     "output_type": "execute_result"
    }
   ],
   "source": [
    "total_mask_pixels = sum([x.mask_pixel_count(i) for i in range(1, x.total_objects+1)])"
   ]
  },
  {
   "cell_type": "code",
   "execution_count": 27,
   "metadata": {},
   "outputs": [],
   "source": [
    "ptot_mask_pixels = 0\n",
    "ptot_bb_area = 0\n",
    "ptot_mb_area = 0\n",
    "for i in range(1, x.total_objects+1):\n",
    "    ptot_mask_pixels = ptot_mask_pixels + x.mask_pixel_count(i)\n",
    "    h1, w1, h2, w2 = x.get_box(i)\n",
    "    ptot_bb_area = ptot_bb_area + abs(h1-h2)*abs(w1-w2)\n",
    "    h1m, w1m, h2m, w2m = x.mass_box(i)\n",
    "    ptot_mb_area = ptot_mb_area + abs(h1m-h2m)*abs(w1m-w2m)"
   ]
  },
  {
   "cell_type": "code",
   "execution_count": 28,
   "metadata": {},
   "outputs": [],
   "source": [
    "image_data = {\n",
    "                'filename':x.filename,\n",
    "                'image height':[x.img_height],\n",
    "                'image width':[x.img_width],\n",
    "                'total objects':[x.total_objects],\n",
    "                '% total pixels': [ptot_mask_pixels/(x.img_height*x.img_width)],\n",
    "                '% total bb area': [ptot_bb_area/(x.img_height*x.img_width)],\n",
    "                '% total mb area': [ptot_mb_area/(x.img_height*x.img_width)]\n",
    "             }"
   ]
  },
  {
   "cell_type": "code",
   "execution_count": 29,
   "metadata": {},
   "outputs": [
    {
     "data": {
      "text/plain": [
       "{'filename': '../images/animals_test_mixed_hidden-5.jpg',\n",
       " 'image height': [384],\n",
       " 'image width': [576],\n",
       " 'total objects': [5],\n",
       " '% total pixels': [0.21132631655092593],\n",
       " '% total bb area': [0.428466796875],\n",
       " '% total mb area': [0.23595739293981483]}"
      ]
     },
     "execution_count": 29,
     "metadata": {},
     "output_type": "execute_result"
    }
   ],
   "source": [
    "image_data"
   ]
  },
  {
   "cell_type": "code",
   "execution_count": 30,
   "metadata": {},
   "outputs": [
    {
     "data": {
      "text/html": [
       "<div>\n",
       "<style scoped>\n",
       "    .dataframe tbody tr th:only-of-type {\n",
       "        vertical-align: middle;\n",
       "    }\n",
       "\n",
       "    .dataframe tbody tr th {\n",
       "        vertical-align: top;\n",
       "    }\n",
       "\n",
       "    .dataframe thead th {\n",
       "        text-align: right;\n",
       "    }\n",
       "</style>\n",
       "<table border=\"1\" class=\"dataframe\">\n",
       "  <thead>\n",
       "    <tr style=\"text-align: right;\">\n",
       "      <th></th>\n",
       "      <th>filename</th>\n",
       "      <th>image height</th>\n",
       "      <th>image width</th>\n",
       "      <th>total objects</th>\n",
       "      <th>% total pixels</th>\n",
       "      <th>% total bb area</th>\n",
       "      <th>% total mb area</th>\n",
       "    </tr>\n",
       "  </thead>\n",
       "  <tbody>\n",
       "    <tr>\n",
       "      <td>0</td>\n",
       "      <td>../images/animals_test_mixed_hidden-5.jpg</td>\n",
       "      <td>384</td>\n",
       "      <td>576</td>\n",
       "      <td>5</td>\n",
       "      <td>0.211326</td>\n",
       "      <td>0.428467</td>\n",
       "      <td>0.235957</td>\n",
       "    </tr>\n",
       "  </tbody>\n",
       "</table>\n",
       "</div>"
      ],
      "text/plain": [
       "                                    filename  image height  image width  \\\n",
       "0  ../images/animals_test_mixed_hidden-5.jpg           384          576   \n",
       "\n",
       "   total objects  % total pixels  % total bb area  % total mb area  \n",
       "0              5        0.211326         0.428467         0.235957  "
      ]
     },
     "execution_count": 30,
     "metadata": {},
     "output_type": "execute_result"
    }
   ],
   "source": [
    "pd.DataFrame.from_dict(image_data)"
   ]
  },
  {
   "cell_type": "code",
   "execution_count": null,
   "metadata": {},
   "outputs": [],
   "source": []
  }
 ],
 "metadata": {
  "kernelspec": {
   "display_name": "Python 3",
   "language": "python",
   "name": "python3"
  },
  "language_info": {
   "codemirror_mode": {
    "name": "ipython",
    "version": 3
   },
   "file_extension": ".py",
   "mimetype": "text/x-python",
   "name": "python",
   "nbconvert_exporter": "python",
   "pygments_lexer": "ipython3",
   "version": "3.7.4"
  }
 },
 "nbformat": 4,
 "nbformat_minor": 2
}
