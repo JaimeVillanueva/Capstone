{
 "cells": [
  {
   "cell_type": "markdown",
   "metadata": {},
   "source": [
    "# Groundtruth Data\n",
    "\n",
    "Files are local, but shows code used to generate dataset for ground truth testing."
   ]
  },
  {
   "cell_type": "code",
   "execution_count": null,
   "metadata": {},
   "outputs": [],
   "source": [
    "!ls /media/jartav/df64012a-b10a-47ca-9611-0c39359831b6"
   ]
  },
  {
   "cell_type": "code",
   "execution_count": null,
   "metadata": {},
   "outputs": [],
   "source": [
    "import os"
   ]
  },
  {
   "cell_type": "code",
   "execution_count": null,
   "metadata": {},
   "outputs": [],
   "source": [
    "# airplane_files = os.listdir('/media/jartav/df64012a-b10a-47ca-9611-0c39359831b6/passenger_jet_groundtruth')\n",
    "# truck_files = os.listdir('/media/jartav/df64012a-b10a-47ca-9611-0c39359831b6/semi_truck_groundtruth')\n",
    "# car_files = os.listdir('/media/jartav/df64012a-b10a-47ca-9611-0c39359831b6/cars_groundtruth')\n",
    "# person_files = os.listdir('/media/jartav/df64012a-b10a-47ca-9611-0c39359831b6/person_groundtruth')\n",
    "# dog_files = os.listdir('/media/jartav/df64012a-b10a-47ca-9611-0c39359831b6/german_shepherd_groundtruth')\n",
    "\n",
    "# airplane_filepath = '/media/jartav/df64012a-b10a-47ca-9611-0c39359831b6/passenger_jet_groundtruth'\n",
    "# truck_filepath = '/media/jartav/df64012a-b10a-47ca-9611-0c39359831b6/semi_truck_groundtruth'\n",
    "# car_filepath = '/media/jartav/df64012a-b10a-47ca-9611-0c39359831b6/cars_groundtruth'\n",
    "# person_filepath = '/media/jartav/df64012a-b10a-47ca-9611-0c39359831b6/person_groundtruth'\n",
    "# dog_filepath = '/media/jartav/df64012a-b10a-47ca-9611-0c39359831b6/german_shepherd_groundtruth'\n",
    "\n",
    "# filepath_dict = {'airplane':airplane_filepath, 'truck':truck_filepath, 'car':car_filepath,\n",
    "#                   'person':person_filepath, 'dog':dog_filepath}\n",
    "\n",
    "# folders_dict = {'airplane':airplane_files, 'truck':truck_files, 'car':car_files, 'person':person_files,\n",
    "#                 'dog':dog_files}"
   ]
  },
  {
   "cell_type": "code",
   "execution_count": null,
   "metadata": {},
   "outputs": [],
   "source": [
    "# %%time\n",
    "# perc_dict = {'airplane':[], 'truck':[], 'car':[], 'person':[], 'dog':[]}\n",
    "# for file_object, directory in folders_dict.items():\n",
    "#     for file in directory:\n",
    "#         #load image\n",
    "#         img = load_img(filepath_dict[file_object] + '/' + file)\n",
    "#         img = img_to_array(img)\n",
    "#         # make prediction\n",
    "#         results = rcnn.detect([img], verbose=False)\n",
    "#         # get dictionary for first prediction\n",
    "#         r = results[0]\n",
    "#         # instantiate object\n",
    "#         x = ObjectMapping(file, r, class_names)\n",
    "#         if (len(x.object_ids) == 1 and x.object_ids[1] == file_object):\n",
    "#             perc_pixel = x.mask_pixel_count(1, 0,0, x.img_height, x.img_width)/(x.img_height*x.img_width)\n",
    "#             perc_dict[file_object].append(perc_pixel)   "
   ]
  },
  {
   "cell_type": "code",
   "execution_count": null,
   "metadata": {},
   "outputs": [],
   "source": [
    "# import pickle\n",
    "# with open('perc_dict.pkl', 'wb') as f:   \n",
    "#         pickle.dump(perc_dict, f)"
   ]
  },
  {
   "cell_type": "code",
   "execution_count": null,
   "metadata": {},
   "outputs": [],
   "source": [
    "with open('perc_dict.pkl', 'rb') as f:\n",
    "    perc_dict = pickle.load(f)"
   ]
  },
  {
   "cell_type": "code",
   "execution_count": null,
   "metadata": {},
   "outputs": [],
   "source": [
    "perc_dict_summary = {'object':[], 'mean':[], 'median':[], 'stddev':[], 'min':[], 'max':[], 'range':[]}\n",
    "for k, v in perc_dict.items():\n",
    "    perc_dict_summary['object'].append(k)\n",
    "    perc_dict_summary['mean'].append(np.mean(v))\n",
    "    perc_dict_summary['median'].append(np.median(v))\n",
    "    perc_dict_summary['stddev'].append(np.std(v))\n",
    "    perc_dict_summary['min'].append(np.min(v))\n",
    "    perc_dict_summary['max'].append(np.max(v))\n",
    "    perc_dict_summary['range'].append(np.max(v)-np.min(v))\n",
    "    "
   ]
  },
  {
   "cell_type": "code",
   "execution_count": null,
   "metadata": {},
   "outputs": [],
   "source": [
    "df_gt = pd.DataFrame(perc_dict_summary)"
   ]
  },
  {
   "cell_type": "code",
   "execution_count": null,
   "metadata": {},
   "outputs": [],
   "source": [
    "df_gt"
   ]
  },
  {
   "cell_type": "code",
   "execution_count": null,
   "metadata": {},
   "outputs": [],
   "source": [
    "df_gt.loc[df_gt['object']=='airplane','mean']"
   ]
  }
 ],
 "metadata": {
  "kernelspec": {
   "display_name": "Python 3",
   "language": "python",
   "name": "python3"
  },
  "language_info": {
   "codemirror_mode": {
    "name": "ipython",
    "version": 3
   },
   "file_extension": ".py",
   "mimetype": "text/x-python",
   "name": "python",
   "nbconvert_exporter": "python",
   "pygments_lexer": "ipython3",
   "version": "3.7.4"
  }
 },
 "nbformat": 4,
 "nbformat_minor": 2
}
